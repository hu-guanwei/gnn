{
 "cells": [
  {
   "cell_type": "markdown",
   "id": "22445ef8",
   "metadata": {},
   "source": [
    "how to organize the data:\n",
    "\n",
    "```\n",
    "how features are aggregated:\n",
    "\n",
    "[x_src, x_one_hop, x_two_hop]\n",
    "  |      /       \\     /\n",
    "x_agg_src_1     x_agg_1_2\n",
    "  |            /\n",
    "  |           /\n",
    "x_output -----\n",
    "\n",
    "each x is or viewed as of shape (bath_size, batch_size * num_neighbors, dim_features)\n",
    "```"
   ]
  },
  {
   "cell_type": "markdown",
   "id": "cd687034",
   "metadata": {},
   "source": []
  }
 ],
 "metadata": {
  "kernelspec": {
   "display_name": "Python 3 (ipykernel)",
   "language": "python",
   "name": "python3"
  },
  "language_info": {
   "codemirror_mode": {
    "name": "ipython",
    "version": 3
   },
   "file_extension": ".py",
   "mimetype": "text/x-python",
   "name": "python",
   "nbconvert_exporter": "python",
   "pygments_lexer": "ipython3",
   "version": "3.10.9"
  }
 },
 "nbformat": 4,
 "nbformat_minor": 5
}
