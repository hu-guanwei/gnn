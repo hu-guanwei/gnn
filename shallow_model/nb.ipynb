{
 "cells": [
  {
   "cell_type": "markdown",
   "id": "943bf795",
   "metadata": {},
   "source": [
    "$\\mathcal{L}(y, \\sigma(u^Tv)) = -y\\log(\\sigma(u^Tv)) - (1-y)\\log(1-\\sigma(u^Tv))$"
   ]
  },
  {
   "cell_type": "code",
   "execution_count": 1,
   "id": "e5e79258",
   "metadata": {},
   "outputs": [],
   "source": [
    "import numpy as np\n",
    "import matplotlib.pyplot as plt\n",
    "%matplotlib inline"
   ]
  },
  {
   "cell_type": "code",
   "execution_count": 2,
   "id": "e059e281",
   "metadata": {},
   "outputs": [],
   "source": [
    "emb = np.array(\n",
    "[\n",
    "[ 10.793, 1.403, ],\n",
    "[ 10.601, 1.552, ],\n",
    "[ 10.828, 1.352, ],\n",
    "[ -8.913, -0.406, ],\n",
    "[ -9.091, -0.492, ],\n",
    "],\n",
    ")"
   ]
  },
  {
   "cell_type": "code",
   "execution_count": 3,
   "id": "186f482a",
   "metadata": {},
   "outputs": [
    {
     "data": {
      "text/plain": [
       "array([[10.793,  1.403],\n",
       "       [10.601,  1.552],\n",
       "       [10.828,  1.352],\n",
       "       [-8.913, -0.406],\n",
       "       [-9.091, -0.492]])"
      ]
     },
     "execution_count": 3,
     "metadata": {},
     "output_type": "execute_result"
    }
   ],
   "source": [
    "emb"
   ]
  },
  {
   "cell_type": "code",
   "execution_count": 4,
   "id": "ffdeafa0",
   "metadata": {},
   "outputs": [
    {
     "data": {
      "text/plain": [
       "<matplotlib.collections.PathCollection at 0x7feb7d88ba30>"
      ]
     },
     "execution_count": 4,
     "metadata": {},
     "output_type": "execute_result"
    },
    {
     "data": {
      "image/png": "[encoded data removed]",
      "text/plain": [
       "<Figure size 640x480 with 1 Axes>"
      ]
     },
     "metadata": {},
     "output_type": "display_data"
    }
   ],
   "source": [
    "plt.scatter(emb[:, 0], emb[:, 1], c=['g', 'b', 'r', 'pink', 'orange'])"
   ]
  },
  {
   "cell_type": "code",
   "execution_count": 5,
   "id": "680d2a85",
   "metadata": {},
   "outputs": [
    {
     "data": {
      "text/plain": [
       "array([[118.457258, 116.594049, 118.76346 , -96.767627, -98.809439],\n",
       "       [116.594049, 114.789905, 116.885932, -95.116825, -97.137275],\n",
       "       [118.76346 , 116.885932, 119.073488, -97.058876, -99.102532],\n",
       "       [-96.767627, -95.116825, -97.058876,  79.606405,  81.227835],\n",
       "       [-98.809439, -97.137275, -99.102532,  81.227835,  82.888345]])"
      ]
     },
     "execution_count": 5,
     "metadata": {},
     "output_type": "execute_result"
    }
   ],
   "source": [
    "emb @ emb.T"
   ]
  },
  {
   "cell_type": "code",
   "execution_count": 6,
   "id": "a0afadfd",
   "metadata": {},
   "outputs": [],
   "source": [
    "def sigmoid(x):\n",
    "    return 1 / (1 + np.exp(-x))"
   ]
  },
  {
   "cell_type": "code",
   "execution_count": 7,
   "id": "390571e1",
   "metadata": {},
   "outputs": [
    {
     "data": {
      "text/plain": [
       "array([[1.00000000e+00, 1.00000000e+00, 1.00000000e+00, 9.42656718e-43,\n",
       "        1.22350538e-43],\n",
       "       [1.00000000e+00, 1.00000000e+00, 1.00000000e+00, 4.91233263e-42,\n",
       "        6.51354594e-43],\n",
       "       [1.00000000e+00, 1.00000000e+00, 1.00000000e+00, 7.04475240e-43,\n",
       "        9.12677218e-44],\n",
       "       [9.42656718e-43, 4.91233263e-42, 7.04475240e-43, 1.00000000e+00,\n",
       "        1.00000000e+00],\n",
       "       [1.22350538e-43, 6.51354594e-43, 9.12677218e-44, 1.00000000e+00,\n",
       "        1.00000000e+00]])"
      ]
     },
     "execution_count": 7,
     "metadata": {},
     "output_type": "execute_result"
    }
   ],
   "source": [
    "sigmoid(emb @ emb.T)"
   ]
  },
  {
   "cell_type": "code",
   "execution_count": null,
   "id": "324af531",
   "metadata": {},
   "outputs": [],
   "source": []
  }
 ],
 "metadata": {
  "kernelspec": {
   "display_name": "Python 3 (ipykernel)",
   "language": "python",
   "name": "python3"
  },
  "language_info": {
   "codemirror_mode": {
    "name": "ipython",
    "version": 3
   },
   "file_extension": ".py",
   "mimetype": "text/x-python",
   "name": "python",
   "nbconvert_exporter": "python",
   "pygments_lexer": "ipython3",
   "version": "3.10.9"
  }
 },
 "nbformat": 4,
 "nbformat_minor": 5
}
